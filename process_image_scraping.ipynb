{
  "cells": [
    {
      "cell_type": "markdown",
      "metadata": {
        "id": "view-in-github",
        "colab_type": "text"
      },
      "source": [
        "<a href=\"https://colab.research.google.com/github/jaobigbang/jaobigbang/blob/main/process_image_scraping.ipynb\" target=\"_parent\"><img src=\"https://colab.research.google.com/assets/colab-badge.svg\" alt=\"Open In Colab\"/></a>"
      ]
    },
    {
      "cell_type": "code",
      "execution_count": null,
      "id": "296ca901",
      "metadata": {
        "id": "296ca901",
        "outputId": "25f32b26-b511-4317-cf04-b5ca214f0ea4"
      },
      "outputs": [
        {
          "data": {
            "text/html": [
              "<div>\n",
              "<style scoped>\n",
              "    .dataframe tbody tr th:only-of-type {\n",
              "        vertical-align: middle;\n",
              "    }\n",
              "\n",
              "    .dataframe tbody tr th {\n",
              "        vertical-align: top;\n",
              "    }\n",
              "\n",
              "    .dataframe thead th {\n",
              "        text-align: right;\n",
              "    }\n",
              "</style>\n",
              "<table border=\"1\" class=\"dataframe\">\n",
              "  <thead>\n",
              "    <tr style=\"text-align: right;\">\n",
              "      <th></th>\n",
              "      <th>nameThai</th>\n",
              "      <th>number</th>\n",
              "    </tr>\n",
              "  </thead>\n",
              "  <tbody>\n",
              "    <tr>\n",
              "      <th>0</th>\n",
              "      <td>เครื่องช่วยหายใจสําหรับดูแลขั้นวิกฤตในผู้ใหญ่</td>\n",
              "      <td>0</td>\n",
              "    </tr>\n",
              "    <tr>\n",
              "      <th>1</th>\n",
              "      <td>มาสค์สําหรับทําให้อากาศบริสุทธิ์</td>\n",
              "      <td>1</td>\n",
              "    </tr>\n",
              "    <tr>\n",
              "      <th>2</th>\n",
              "      <td>เครื่องช่วยหายใจที่ทําให้อากาศบริสุทธิ์</td>\n",
              "      <td>2</td>\n",
              "    </tr>\n",
              "    <tr>\n",
              "      <th>3</th>\n",
              "      <td>เครื่องผสมอากาศกับออกซิเจน</td>\n",
              "      <td>3</td>\n",
              "    </tr>\n",
              "    <tr>\n",
              "      <th>4</th>\n",
              "      <td>หน่วยระงับความเจ็บปวดที่ใช้ในการสูดดม</td>\n",
              "      <td>4</td>\n",
              "    </tr>\n",
              "    <tr>\n",
              "      <th>...</th>\n",
              "      <td>...</td>\n",
              "      <td>...</td>\n",
              "    </tr>\n",
              "    <tr>\n",
              "      <th>147</th>\n",
              "      <td>เครืองบันทึกเสียงที่เกิดจากการสั่นของหัวใจ</td>\n",
              "      <td>147</td>\n",
              "    </tr>\n",
              "    <tr>\n",
              "      <th>148</th>\n",
              "      <td>ตัวพิเคราะห์รังสีเบต้าและแกรมมา</td>\n",
              "      <td>148</td>\n",
              "    </tr>\n",
              "    <tr>\n",
              "      <th>149</th>\n",
              "      <td>เครื่องรังสีวินิจฉัยทางทันตกรรม</td>\n",
              "      <td>149</td>\n",
              "    </tr>\n",
              "    <tr>\n",
              "      <th>150</th>\n",
              "      <td>ยาสีฟัน</td>\n",
              "      <td>150</td>\n",
              "    </tr>\n",
              "    <tr>\n",
              "      <th>151</th>\n",
              "      <td>เครื่องเอ็กเรย์ดิจิตอลที่ใช้ทางทันตกรรม</td>\n",
              "      <td>151</td>\n",
              "    </tr>\n",
              "  </tbody>\n",
              "</table>\n",
              "<p>152 rows × 2 columns</p>\n",
              "</div>"
            ],
            "text/plain": [
              "                                          nameThai  number\n",
              "0    เครื่องช่วยหายใจสําหรับดูแลขั้นวิกฤตในผู้ใหญ่       0\n",
              "1                 มาสค์สําหรับทําให้อากาศบริสุทธิ์       1\n",
              "2          เครื่องช่วยหายใจที่ทําให้อากาศบริสุทธิ์       2\n",
              "3                       เครื่องผสมอากาศกับออกซิเจน       3\n",
              "4            หน่วยระงับความเจ็บปวดที่ใช้ในการสูดดม       4\n",
              "..                                             ...     ...\n",
              "147     เครืองบันทึกเสียงที่เกิดจากการสั่นของหัวใจ     147\n",
              "148                ตัวพิเคราะห์รังสีเบต้าและแกรมมา     148\n",
              "149                เครื่องรังสีวินิจฉัยทางทันตกรรม     149\n",
              "150                                        ยาสีฟัน     150\n",
              "151        เครื่องเอ็กเรย์ดิจิตอลที่ใช้ทางทันตกรรม     151\n",
              "\n",
              "[152 rows x 2 columns]"
            ]
          },
          "execution_count": 5,
          "metadata": {},
          "output_type": "execute_result"
        }
      ],
      "source": [
        "from selenium import webdriver\n",
        "import time\n",
        "from selenium.webdriver.chrome.service import Service\n",
        "from selenium.webdriver.common.by import By\n",
        "from webdriver_manager.chrome import ChromeDriverManager\n",
        "import pandas as pd\n",
        "df = pd.read_csv('data_0-151_th.csv')\n",
        "df"
      ]
    },
    {
      "cell_type": "code",
      "execution_count": null,
      "id": "a7057ce0",
      "metadata": {
        "id": "a7057ce0",
        "outputId": "79ad3080-d657-4204-b1c6-712854af31a8"
      },
      "outputs": [
        {
          "ename": "WebDriverException",
          "evalue": "Message: disconnected: not connected to DevTools\n  (failed to check if window was closed: disconnected: not connected to DevTools)\n  (Session info: chrome=114.0.5735.133)\nStacktrace:\n0   chromedriver                        0x00000001011776b8 chromedriver + 4937400\n1   chromedriver                        0x000000010116eb73 chromedriver + 4901747\n2   chromedriver                        0x0000000100d2c616 chromedriver + 435734\n3   chromedriver                        0x0000000100d12bc1 chromedriver + 330689\n4   chromedriver                        0x0000000100d12923 chromedriver + 330019\n5   chromedriver                        0x0000000100d2e262 chromedriver + 442978\n6   chromedriver                        0x0000000100dae56e chromedriver + 968046\n7   chromedriver                        0x0000000100d93de3 chromedriver + 859619\n8   chromedriver                        0x0000000100d61d7f chromedriver + 654719\n9   chromedriver                        0x0000000100d630de chromedriver + 659678\n10  chromedriver                        0x00000001011332ad chromedriver + 4657837\n11  chromedriver                        0x0000000101138130 chromedriver + 4677936\n12  chromedriver                        0x000000010113edef chromedriver + 4705775\n13  chromedriver                        0x000000010113905a chromedriver + 4681818\n14  chromedriver                        0x000000010110b92c chromedriver + 4495660\n15  chromedriver                        0x0000000101156838 chromedriver + 4802616\n16  chromedriver                        0x00000001011569b7 chromedriver + 4802999\n17  chromedriver                        0x000000010116799f chromedriver + 4872607\n18  libsystem_pthread.dylib             0x00007ff8029771d3 _pthread_start + 125\n19  libsystem_pthread.dylib             0x00007ff802972bd3 thread_start + 15\n",
          "output_type": "error",
          "traceback": [
            "\u001b[0;31m---------------------------------------------------------------------------\u001b[0m",
            "\u001b[0;31mWebDriverException\u001b[0m                        Traceback (most recent call last)",
            "\u001b[0;32m/var/folders/y_/2v2744f57333wb8hhfdqb87c0000gn/T/ipykernel_40548/446873902.py\u001b[0m in \u001b[0;36m<module>\u001b[0;34m\u001b[0m\n\u001b[1;32m     34\u001b[0m     \u001b[0;31m# Click each image and get the large URL and thumbnail URL\u001b[0m\u001b[0;34m\u001b[0m\u001b[0;34m\u001b[0m\u001b[0m\n\u001b[1;32m     35\u001b[0m     \u001b[0;32mfor\u001b[0m \u001b[0mi\u001b[0m \u001b[0;32min\u001b[0m \u001b[0mimages\u001b[0m\u001b[0;34m:\u001b[0m\u001b[0;34m\u001b[0m\u001b[0;34m\u001b[0m\u001b[0m\n\u001b[0;32m---> 36\u001b[0;31m         \u001b[0mthumbnail_url\u001b[0m \u001b[0;34m=\u001b[0m \u001b[0mi\u001b[0m\u001b[0;34m.\u001b[0m\u001b[0mget_attribute\u001b[0m\u001b[0;34m(\u001b[0m\u001b[0;34m\"src\"\u001b[0m\u001b[0;34m)\u001b[0m\u001b[0;34m\u001b[0m\u001b[0;34m\u001b[0m\u001b[0m\n\u001b[0m\u001b[1;32m     37\u001b[0m         \u001b[0mtitle\u001b[0m \u001b[0;34m=\u001b[0m \u001b[0mi\u001b[0m\u001b[0;34m.\u001b[0m\u001b[0mget_attribute\u001b[0m\u001b[0;34m(\u001b[0m\u001b[0;34m\"alt\"\u001b[0m\u001b[0;34m)\u001b[0m\u001b[0;34m\u001b[0m\u001b[0;34m\u001b[0m\u001b[0m\n\u001b[1;32m     38\u001b[0m         \u001b[0mdestination_url\u001b[0m \u001b[0;34m=\u001b[0m \u001b[0;34m\"\"\u001b[0m\u001b[0;34m\u001b[0m\u001b[0;34m\u001b[0m\u001b[0m\n",
            "\u001b[0;32m~/opt/anaconda3/lib/python3.9/site-packages/selenium/webdriver/remote/webelement.py\u001b[0m in \u001b[0;36mget_attribute\u001b[0;34m(self, name)\u001b[0m\n\u001b[1;32m    176\u001b[0m         \u001b[0;32mif\u001b[0m \u001b[0mgetAttribute_js\u001b[0m \u001b[0;32mis\u001b[0m \u001b[0;32mNone\u001b[0m\u001b[0;34m:\u001b[0m\u001b[0;34m\u001b[0m\u001b[0;34m\u001b[0m\u001b[0m\n\u001b[1;32m    177\u001b[0m             \u001b[0m_load_js\u001b[0m\u001b[0;34m(\u001b[0m\u001b[0;34m)\u001b[0m\u001b[0;34m\u001b[0m\u001b[0;34m\u001b[0m\u001b[0m\n\u001b[0;32m--> 178\u001b[0;31m         attribute_value = self.parent.execute_script(\n\u001b[0m\u001b[1;32m    179\u001b[0m             \u001b[0;34mf\"/* getAttribute */return ({getAttribute_js}).apply(null, arguments);\"\u001b[0m\u001b[0;34m,\u001b[0m \u001b[0mself\u001b[0m\u001b[0;34m,\u001b[0m \u001b[0mname\u001b[0m\u001b[0;34m\u001b[0m\u001b[0;34m\u001b[0m\u001b[0m\n\u001b[1;32m    180\u001b[0m         )\n",
            "\u001b[0;32m~/opt/anaconda3/lib/python3.9/site-packages/selenium/webdriver/remote/webdriver.py\u001b[0m in \u001b[0;36mexecute_script\u001b[0;34m(self, script, *args)\u001b[0m\n\u001b[1;32m    498\u001b[0m         \u001b[0mcommand\u001b[0m \u001b[0;34m=\u001b[0m \u001b[0mCommand\u001b[0m\u001b[0;34m.\u001b[0m\u001b[0mW3C_EXECUTE_SCRIPT\u001b[0m\u001b[0;34m\u001b[0m\u001b[0;34m\u001b[0m\u001b[0m\n\u001b[1;32m    499\u001b[0m \u001b[0;34m\u001b[0m\u001b[0m\n\u001b[0;32m--> 500\u001b[0;31m         \u001b[0;32mreturn\u001b[0m \u001b[0mself\u001b[0m\u001b[0;34m.\u001b[0m\u001b[0mexecute\u001b[0m\u001b[0;34m(\u001b[0m\u001b[0mcommand\u001b[0m\u001b[0;34m,\u001b[0m \u001b[0;34m{\u001b[0m\u001b[0;34m\"script\"\u001b[0m\u001b[0;34m:\u001b[0m \u001b[0mscript\u001b[0m\u001b[0;34m,\u001b[0m \u001b[0;34m\"args\"\u001b[0m\u001b[0;34m:\u001b[0m \u001b[0mconverted_args\u001b[0m\u001b[0;34m}\u001b[0m\u001b[0;34m)\u001b[0m\u001b[0;34m[\u001b[0m\u001b[0;34m\"value\"\u001b[0m\u001b[0;34m]\u001b[0m\u001b[0;34m\u001b[0m\u001b[0;34m\u001b[0m\u001b[0m\n\u001b[0m\u001b[1;32m    501\u001b[0m \u001b[0;34m\u001b[0m\u001b[0m\n\u001b[1;32m    502\u001b[0m     \u001b[0;32mdef\u001b[0m \u001b[0mexecute_async_script\u001b[0m\u001b[0;34m(\u001b[0m\u001b[0mself\u001b[0m\u001b[0;34m,\u001b[0m \u001b[0mscript\u001b[0m\u001b[0;34m:\u001b[0m \u001b[0mstr\u001b[0m\u001b[0;34m,\u001b[0m \u001b[0;34m*\u001b[0m\u001b[0margs\u001b[0m\u001b[0;34m)\u001b[0m\u001b[0;34m:\u001b[0m\u001b[0;34m\u001b[0m\u001b[0;34m\u001b[0m\u001b[0m\n",
            "\u001b[0;32m~/opt/anaconda3/lib/python3.9/site-packages/selenium/webdriver/remote/webdriver.py\u001b[0m in \u001b[0;36mexecute\u001b[0;34m(self, driver_command, params)\u001b[0m\n\u001b[1;32m    438\u001b[0m         \u001b[0mresponse\u001b[0m \u001b[0;34m=\u001b[0m \u001b[0mself\u001b[0m\u001b[0;34m.\u001b[0m\u001b[0mcommand_executor\u001b[0m\u001b[0;34m.\u001b[0m\u001b[0mexecute\u001b[0m\u001b[0;34m(\u001b[0m\u001b[0mdriver_command\u001b[0m\u001b[0;34m,\u001b[0m \u001b[0mparams\u001b[0m\u001b[0;34m)\u001b[0m\u001b[0;34m\u001b[0m\u001b[0;34m\u001b[0m\u001b[0m\n\u001b[1;32m    439\u001b[0m         \u001b[0;32mif\u001b[0m \u001b[0mresponse\u001b[0m\u001b[0;34m:\u001b[0m\u001b[0;34m\u001b[0m\u001b[0;34m\u001b[0m\u001b[0m\n\u001b[0;32m--> 440\u001b[0;31m             \u001b[0mself\u001b[0m\u001b[0;34m.\u001b[0m\u001b[0merror_handler\u001b[0m\u001b[0;34m.\u001b[0m\u001b[0mcheck_response\u001b[0m\u001b[0;34m(\u001b[0m\u001b[0mresponse\u001b[0m\u001b[0;34m)\u001b[0m\u001b[0;34m\u001b[0m\u001b[0;34m\u001b[0m\u001b[0m\n\u001b[0m\u001b[1;32m    441\u001b[0m             \u001b[0mresponse\u001b[0m\u001b[0;34m[\u001b[0m\u001b[0;34m\"value\"\u001b[0m\u001b[0;34m]\u001b[0m \u001b[0;34m=\u001b[0m \u001b[0mself\u001b[0m\u001b[0;34m.\u001b[0m\u001b[0m_unwrap_value\u001b[0m\u001b[0;34m(\u001b[0m\u001b[0mresponse\u001b[0m\u001b[0;34m.\u001b[0m\u001b[0mget\u001b[0m\u001b[0;34m(\u001b[0m\u001b[0;34m\"value\"\u001b[0m\u001b[0;34m,\u001b[0m \u001b[0;32mNone\u001b[0m\u001b[0;34m)\u001b[0m\u001b[0;34m)\u001b[0m\u001b[0;34m\u001b[0m\u001b[0;34m\u001b[0m\u001b[0m\n\u001b[1;32m    442\u001b[0m             \u001b[0;32mreturn\u001b[0m \u001b[0mresponse\u001b[0m\u001b[0;34m\u001b[0m\u001b[0;34m\u001b[0m\u001b[0m\n",
            "\u001b[0;32m~/opt/anaconda3/lib/python3.9/site-packages/selenium/webdriver/remote/errorhandler.py\u001b[0m in \u001b[0;36mcheck_response\u001b[0;34m(self, response)\u001b[0m\n\u001b[1;32m    243\u001b[0m                 \u001b[0malert_text\u001b[0m \u001b[0;34m=\u001b[0m \u001b[0mvalue\u001b[0m\u001b[0;34m[\u001b[0m\u001b[0;34m\"alert\"\u001b[0m\u001b[0;34m]\u001b[0m\u001b[0;34m.\u001b[0m\u001b[0mget\u001b[0m\u001b[0;34m(\u001b[0m\u001b[0;34m\"text\"\u001b[0m\u001b[0;34m)\u001b[0m\u001b[0;34m\u001b[0m\u001b[0;34m\u001b[0m\u001b[0m\n\u001b[1;32m    244\u001b[0m             \u001b[0;32mraise\u001b[0m \u001b[0mexception_class\u001b[0m\u001b[0;34m(\u001b[0m\u001b[0mmessage\u001b[0m\u001b[0;34m,\u001b[0m \u001b[0mscreen\u001b[0m\u001b[0;34m,\u001b[0m \u001b[0mstacktrace\u001b[0m\u001b[0;34m,\u001b[0m \u001b[0malert_text\u001b[0m\u001b[0;34m)\u001b[0m  \u001b[0;31m# type: ignore[call-arg]  # mypy is not smart enough here\u001b[0m\u001b[0;34m\u001b[0m\u001b[0;34m\u001b[0m\u001b[0m\n\u001b[0;32m--> 245\u001b[0;31m         \u001b[0;32mraise\u001b[0m \u001b[0mexception_class\u001b[0m\u001b[0;34m(\u001b[0m\u001b[0mmessage\u001b[0m\u001b[0;34m,\u001b[0m \u001b[0mscreen\u001b[0m\u001b[0;34m,\u001b[0m \u001b[0mstacktrace\u001b[0m\u001b[0;34m)\u001b[0m\u001b[0;34m\u001b[0m\u001b[0;34m\u001b[0m\u001b[0m\n\u001b[0m",
            "\u001b[0;31mWebDriverException\u001b[0m: Message: disconnected: not connected to DevTools\n  (failed to check if window was closed: disconnected: not connected to DevTools)\n  (Session info: chrome=114.0.5735.133)\nStacktrace:\n0   chromedriver                        0x00000001011776b8 chromedriver + 4937400\n1   chromedriver                        0x000000010116eb73 chromedriver + 4901747\n2   chromedriver                        0x0000000100d2c616 chromedriver + 435734\n3   chromedriver                        0x0000000100d12bc1 chromedriver + 330689\n4   chromedriver                        0x0000000100d12923 chromedriver + 330019\n5   chromedriver                        0x0000000100d2e262 chromedriver + 442978\n6   chromedriver                        0x0000000100dae56e chromedriver + 968046\n7   chromedriver                        0x0000000100d93de3 chromedriver + 859619\n8   chromedriver                        0x0000000100d61d7f chromedriver + 654719\n9   chromedriver                        0x0000000100d630de chromedriver + 659678\n10  chromedriver                        0x00000001011332ad chromedriver + 4657837\n11  chromedriver                        0x0000000101138130 chromedriver + 4677936\n12  chromedriver                        0x000000010113edef chromedriver + 4705775\n13  chromedriver                        0x000000010113905a chromedriver + 4681818\n14  chromedriver                        0x000000010110b92c chromedriver + 4495660\n15  chromedriver                        0x0000000101156838 chromedriver + 4802616\n16  chromedriver                        0x00000001011569b7 chromedriver + 4802999\n17  chromedriver                        0x000000010116799f chromedriver + 4872607\n18  libsystem_pthread.dylib             0x00007ff8029771d3 _pthread_start + 125\n19  libsystem_pthread.dylib             0x00007ff802972bd3 thread_start + 15\n"
          ]
        }
      ],
      "source": [
        "# Create a new instance of the Chrome driver\n",
        "# Set up the Chrome webdriver\n",
        "s = Service(ChromeDriverManager().install())\n",
        "driver = webdriver.Chrome(service=s)\n",
        "\n",
        "keyword = []\n",
        "for _, row in df.iterrows():\n",
        "    name = row[\"nameThai\"]\n",
        "    number = row[\"number\"]\n",
        "    keyword.append((name, number))\n",
        "\n",
        "data = []\n",
        "for keyword_tuple in keyword:\n",
        "    name = keyword_tuple[0]\n",
        "    number = keyword_tuple[1]\n",
        "    url = f'https://www.google.com/search?q={name}&tbm=isch'\n",
        "    driver.get(url)\n",
        "    # Scroll down to the end of the page\n",
        "    last_height = driver.execute_script(\"return document.body.scrollHeight\")\n",
        "\n",
        "    while True:\n",
        "        # Scroll down to the bottom\n",
        "        driver.execute_script(\"window.scrollTo(0, document.body.scrollHeight);\")\n",
        "        # Wait for the page to load\n",
        "        time.sleep(1)\n",
        "        # Calculate the new scroll height and check if the page has reached the end\n",
        "        new_height = driver.execute_script(\"return document.body.scrollHeight\")\n",
        "        if new_height == last_height:\n",
        "            break\n",
        "        last_height = new_height\n",
        "\n",
        "    images = driver.find_elements(By.CLASS_NAME, \"Q4LuWd\")\n",
        "\n",
        "    # Click each image and get the large URL and thumbnail URL\n",
        "    for i in images:\n",
        "        thumbnail_url = i.get_attribute(\"src\")\n",
        "        title = i.get_attribute(\"alt\")\n",
        "        destination_url = \"\"\n",
        "        large_url = \"\"\n",
        "        try:\n",
        "            i.click()\n",
        "            time.sleep(1)\n",
        "        except:\n",
        "            continue\n",
        "        try:\n",
        "            destination_element = driver.find_element(By.XPATH, '/html/body/div[2]/c-wiz/div[3]/div[2]/div[3]/div[2]/div/div[2]/div[2]/div[2]/c-wiz/div/div/div/div[4]/div[1]/a[1]')\n",
        "            destination_url = destination_element.get_attribute(\"href\")\n",
        "        except:\n",
        "            pass\n",
        "        try:\n",
        "            large_url_element = driver.find_element(By.XPATH, \"//img[@class='r48jcc pT0Scc iPVvYb']\")\n",
        "            large_url = large_url_element.get_attribute(\"src\")\n",
        "        except:\n",
        "            pass\n",
        "\n",
        "        data.append({\n",
        "            \"name\": name,\n",
        "            \"title\": title,\n",
        "            \"realURL\": large_url,\n",
        "            \"thumbnailURL\": thumbnail_url,\n",
        "            \"destinationURL\": destination_url,\n",
        "            \"Order\": number,\n",
        "            \"url\": url\n",
        "\n",
        "        })\n",
        "\n",
        "# Close the browser\n",
        "driver.quit()\n",
        "\n",
        "# Create a DataFrame from the data\n",
        "df_result = pd.DataFrame(data)\n",
        "\n",
        "# Display the DataFrame\n",
        "df_result"
      ]
    },
    {
      "cell_type": "code",
      "execution_count": null,
      "id": "cd6970ff",
      "metadata": {
        "id": "cd6970ff"
      },
      "outputs": [],
      "source": [
        "df_result.to_csv(\"df_data_0-151_th.csv\",index=False)"
      ]
    },
    {
      "cell_type": "code",
      "execution_count": null,
      "id": "4c901257",
      "metadata": {
        "id": "4c901257"
      },
      "outputs": [],
      "source": []
    }
  ],
  "metadata": {
    "kernelspec": {
      "display_name": "Python 3 (ipykernel)",
      "language": "python",
      "name": "python3"
    },
    "language_info": {
      "codemirror_mode": {
        "name": "ipython",
        "version": 3
      },
      "file_extension": ".py",
      "mimetype": "text/x-python",
      "name": "python",
      "nbconvert_exporter": "python",
      "pygments_lexer": "ipython3",
      "version": "3.9.13"
    },
    "toc": {
      "base_numbering": 1,
      "nav_menu": {},
      "number_sections": true,
      "sideBar": true,
      "skip_h1_title": false,
      "title_cell": "Table of Contents",
      "title_sidebar": "Contents",
      "toc_cell": false,
      "toc_position": {},
      "toc_section_display": true,
      "toc_window_display": false
    },
    "varInspector": {
      "cols": {
        "lenName": 16,
        "lenType": 16,
        "lenVar": 40
      },
      "kernels_config": {
        "python": {
          "delete_cmd_postfix": "",
          "delete_cmd_prefix": "del ",
          "library": "var_list.py",
          "varRefreshCmd": "print(var_dic_list())"
        },
        "r": {
          "delete_cmd_postfix": ") ",
          "delete_cmd_prefix": "rm(",
          "library": "var_list.r",
          "varRefreshCmd": "cat(var_dic_list()) "
        }
      },
      "types_to_exclude": [
        "module",
        "function",
        "builtin_function_or_method",
        "instance",
        "_Feature"
      ],
      "window_display": false
    },
    "colab": {
      "provenance": [],
      "include_colab_link": true
    }
  },
  "nbformat": 4,
  "nbformat_minor": 5
}